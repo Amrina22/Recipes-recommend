{
 "cells": [
  {
   "cell_type": "code",
   "execution_count": 3,
   "id": "bf69848c",
   "metadata": {},
   "outputs": [
    {
     "name": "stdout",
     "output_type": "stream",
     "text": [
      "55.209692949164776\n",
      "15.467441468316437\n",
      "3.5694134070118038\n",
      "Cosine Similarity: 0.9999999999997419\n"
     ]
    }
   ],
   "source": [
    "import math\n",
    "\n",
    "# Vektor Q dan R\n",
    "Q = [0.6618302, 8.5157233, 12.8952]\n",
    "R = [0.15273, 1.9651669, 2.97582]\n",
    "\n",
    "# Hitung dot product Q dan R\n",
    "dot_product = sum(q * r for q, r in zip(Q, R))\n",
    "\n",
    "# Hitung norma dari Q\n",
    "norm_q = math.sqrt(sum(q ** 2 for q in Q))\n",
    "\n",
    "# Hitung norma dari R\n",
    "norm_r = math.sqrt(sum(r ** 2 for r in R))\n",
    "\n",
    "# Hitung cosine similarity\n",
    "cosine_similarity = dot_product / (norm_q * norm_r)\n",
    "\n",
    "print(dot_product)\n",
    "print(norm_q)\n",
    "print(norm_r)\n",
    "print(f\"Cosine Similarity: {cosine_similarity}\")\n"
   ]
  },
  {
   "cell_type": "code",
   "execution_count": 5,
   "id": "01b7a3c5",
   "metadata": {},
   "outputs": [
    {
     "name": "stdout",
     "output_type": "stream",
     "text": [
      "Cosine Similarity dengan Resep 1: 0.9999999999997419\n",
      "Cosine Similarity dengan Resep 2: 0.9999999999976804\n",
      "Cosine Similarity dengan Resep 3: 0.9999987609780723\n",
      "Cosine Similarity dengan Resep 4: 0.9990841483666026\n",
      "Cosine Similarity dengan Resep 5: 0.5505579780239439\n"
     ]
    }
   ],
   "source": [
    "import math\n",
    "\n",
    "def cosine_similarity(vector1, vector2):\n",
    "    dot_product = sum(q * r for q, r in zip(vector1, vector2))\n",
    "    norm_vector1 = math.sqrt(sum(q ** 2 for q in vector1))\n",
    "    norm_vector2 = math.sqrt(sum(r ** 2 for r in vector2))\n",
    "    \n",
    "    similarity = dot_product / (norm_vector1 * norm_vector2)\n",
    "    return similarity\n",
    "\n",
    "# Vektor Query\n",
    "query_vector = [0.6618302, 8.5157233, 12.8952]\n",
    "\n",
    "# List vektor resep (contoh dengan dua resep)\n",
    "recipes_vectors = [\n",
    "    [0.15273, 1.9651669, 2.97582],   # Vektor Resep 1\n",
    "    [0.1418208, 1.8247978, 2.76327], # Vektor Resep 2\n",
    "    [0.1654576, 2.12165319, 3.22381], # Vektor Resep 3\n",
    "    [0, 1.2165319, 1.84218],          # Vektor Resep 4\n",
    "    [0, 1.9651669, 0]                 # Vektor Resep 5\n",
    "]\n",
    "\n",
    "# Hitung cosine similarity untuk setiap resep\n",
    "similarities = [cosine_similarity(query_vector, recipe_vector) for recipe_vector in recipes_vectors]\n",
    "\n",
    "# Tampilkan hasil\n",
    "for i, similarity in enumerate(similarities, start=1):\n",
    "    print(f\"Cosine Similarity dengan Resep {i}: {similarity}\")\n"
   ]
  },
  {
   "cell_type": "code",
   "execution_count": null,
   "id": "f43af41d",
   "metadata": {},
   "outputs": [],
   "source": []
  }
 ],
 "metadata": {
  "kernelspec": {
   "display_name": "Python 3 (ipykernel)",
   "language": "python",
   "name": "python3"
  },
  "language_info": {
   "codemirror_mode": {
    "name": "ipython",
    "version": 3
   },
   "file_extension": ".py",
   "mimetype": "text/x-python",
   "name": "python",
   "nbconvert_exporter": "python",
   "pygments_lexer": "ipython3",
   "version": "3.11.5"
  }
 },
 "nbformat": 4,
 "nbformat_minor": 5
}
